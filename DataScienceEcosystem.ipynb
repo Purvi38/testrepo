{
 "cells": [
  {
   "cell_type": "markdown",
   "id": "d2e3951a-6e6b-4775-ab1c-5fa1f1b80e9f",
   "metadata": {},
   "source": [
    "# Data Science Tools and Ecosystem"
   ]
  },
  {
   "cell_type": "markdown",
   "id": "678797df-7121-4d3a-a091-bb597540ab08",
   "metadata": {},
   "source": [
    "In this notebook, we will explore the diverse world of Data Science tools and ecosystems."
   ]
  },
  {
   "cell_type": "markdown",
   "id": "29e0dd1a-3b0d-449b-b9b8-fcfc47ff7ebf",
   "metadata": {},
   "source": [
    "Some of the popular languages that Data Scientists use are:\n",
    "\n",
    "1. **Python:** A versatile language with extensive libraries for data analysis, machine learning, and data visualization.\n",
    "2. **R:** A statistical programming language specifically designed for data analysis and visualization.\n",
    "3. **SQL:** A language for managing and manipulating relational databases, essential for data extraction and cleaning."
   ]
  },
  {
   "cell_type": "markdown",
   "id": "8c7b9cc9-2379-49ba-b6bf-7ce6e3629145",
   "metadata": {},
   "source": [
    "Some of the commonly used libraries used by Data Scientists include:\n",
    "\n",
    "1. **NumPy:** A fundamental library for numerical computations, providing efficient array operations.\n",
    "2. **Pandas:** A data analysis and manipulation library offering powerful tools for data cleaning, exploration, and analysis.\n",
    "3. **Matplotlib:** A versatile plotting library for creating various visualizations, from simple plots to complex visualizations."
   ]
  },
  {
   "cell_type": "markdown",
   "id": "27d296c9-8b1b-4d23-a527-fbb004b6e671",
   "metadata": {},
   "source": [
    "| Data Science Tools |\n",
    "|---|---|\n",
    "| Jupyter Notebook |\n",
    "| RStudio |\n",
    "| VS Code |"
   ]
  },
  {
   "cell_type": "markdown",
   "id": "6469913c-cc29-4bba-bee7-a02b3684835a",
   "metadata": {},
   "source": [
    "### Below are a few examples of evaluating arithmetic expressions in Python."
   ]
  },
  {
   "cell_type": "code",
   "execution_count": 2,
   "id": "840eb56d-d379-457e-ad1e-d80887ae0aa8",
   "metadata": {},
   "outputs": [
    {
     "name": "stdout",
     "output_type": "stream",
     "text": [
      "17\n"
     ]
    }
   ],
   "source": [
    "# This is a simple arithmetic expression to multiply then add integers\n",
    "print((3*4)+5)"
   ]
  },
  {
   "cell_type": "code",
   "execution_count": 3,
   "id": "fb2a5da7-758b-496e-bf8a-109c27f23cf7",
   "metadata": {},
   "outputs": [
    {
     "name": "stdout",
     "output_type": "stream",
     "text": [
      "3.3333333333333335\n"
     ]
    }
   ],
   "source": [
    "# This will convert 200 minutes to hours by dividing by 60\n",
    "print(200/60)"
   ]
  },
  {
   "cell_type": "markdown",
   "id": "9e1672b2-b5dc-4f5e-8856-569d49d1a904",
   "metadata": {},
   "source": [
    "**Objectives:**\n",
    "* Introduce Data Science tools and ecosystem\n",
    "* List popular languages for Data Science\n",
    "* List popular libraries for Data Science\n",
    "* Introduce Data Science tools\n",
    "* Perform simple arithmetic operations in Python"
   ]
  },
  {
   "cell_type": "markdown",
   "id": "8efd7105-cbff-4387-a61c-558741615f4d",
   "metadata": {},
   "source": [
    "## Author\n",
    "Purvi Mohapatra"
   ]
  },
  {
   "cell_type": "code",
   "execution_count": null,
   "id": "37527ba2-9ed3-4928-9640-c8b054f9f5c7",
   "metadata": {},
   "outputs": [],
   "source": []
  }
 ],
 "metadata": {
  "kernelspec": {
   "display_name": "Python 3 (ipykernel)",
   "language": "python",
   "name": "python3"
  },
  "language_info": {
   "codemirror_mode": {
    "name": "ipython",
    "version": 3
   },
   "file_extension": ".py",
   "mimetype": "text/x-python",
   "name": "python",
   "nbconvert_exporter": "python",
   "pygments_lexer": "ipython3",
   "version": "3.11.9"
  }
 },
 "nbformat": 4,
 "nbformat_minor": 5
}
